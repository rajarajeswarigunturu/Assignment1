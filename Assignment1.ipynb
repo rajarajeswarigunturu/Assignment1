{
 "cells": [
  {
   "cell_type": "code",
   "execution_count": 12,
   "id": "7e27e8b1",
   "metadata": {},
   "outputs": [
    {
     "ename": "IndentationError",
     "evalue": "unexpected indent (Temp/ipykernel_14188/3564296237.py, line 2)",
     "output_type": "error",
     "traceback": [
      "\u001b[1;36m  File \u001b[1;32m\"C:\\Users\\91903\\AppData\\Local\\Temp/ipykernel_14188/3564296237.py\"\u001b[1;36m, line \u001b[1;32m2\u001b[0m\n\u001b[1;33m    'hello'  =  value\u001b[0m\n\u001b[1;37m    ^\u001b[0m\n\u001b[1;31mIndentationError\u001b[0m\u001b[1;31m:\u001b[0m unexpected indent\n"
     ]
    }
   ],
   "source": [
    "# 1. *        =  expression\n",
    "     'hello'  =  value\n",
    "      -87.8   =  value\n",
    "      -       =  expression\n",
    "      /       =  expression\n",
    "      +       =  expression\n",
    "      6       =  value"
   ]
  },
  {
   "cell_type": "code",
   "execution_count": 14,
   "id": "0e6c5ae2",
   "metadata": {},
   "outputs": [
    {
     "ename": "IndentationError",
     "evalue": "unindent does not match any outer indentation level (<tokenize>, line 3)",
     "output_type": "error",
     "traceback": [
      "\u001b[1;36m  File \u001b[1;32m\"<tokenize>\"\u001b[1;36m, line \u001b[1;32m3\u001b[0m\n\u001b[1;33m    variable: is basically the name of the location in the primary location of\u001b[0m\n\u001b[1;37m    ^\u001b[0m\n\u001b[1;31mIndentationError\u001b[0m\u001b[1;31m:\u001b[0m unindent does not match any outer indentation level\n"
     ]
    }
   ],
   "source": [
    "# 2. string: is the value inside the quotes\n",
    "             we can use them to fill a variable.\n",
    "    variable: is basically the name of the location in the primary location of\n",
    "             your compuer. it can be choosen by us. it can store everything \n",
    "            from string to number.\n",
    "            we can think variable as an empty box that we can fill with\n",
    "            some data or value."
   ]
  },
  {
   "cell_type": "code",
   "execution_count": 15,
   "id": "23c81c8b",
   "metadata": {},
   "outputs": [
    {
     "ename": "IndentationError",
     "evalue": "unexpected indent (Temp/ipykernel_14188/4285008432.py, line 2)",
     "output_type": "error",
     "traceback": [
      "\u001b[1;36m  File \u001b[1;32m\"C:\\Users\\91903\\AppData\\Local\\Temp/ipykernel_14188/4285008432.py\"\u001b[1;36m, line \u001b[1;32m2\u001b[0m\n\u001b[1;33m    data types.\u001b[0m\n\u001b[1;37m    ^\u001b[0m\n\u001b[1;31mIndentationError\u001b[0m\u001b[1;31m:\u001b[0m unexpected indent\n"
     ]
    }
   ],
   "source": [
    "# 3. integer, float, boolean, string, list, tuple etc are some of the\n",
    "     data types."
   ]
  },
  {
   "cell_type": "code",
   "execution_count": 16,
   "id": "0890288b",
   "metadata": {},
   "outputs": [
    {
     "ename": "IndentationError",
     "evalue": "unexpected indent (Temp/ipykernel_14188/368586372.py, line 2)",
     "output_type": "error",
     "traceback": [
      "\u001b[1;36m  File \u001b[1;32m\"C:\\Users\\91903\\AppData\\Local\\Temp/ipykernel_14188/368586372.py\"\u001b[1;36m, line \u001b[1;32m2\u001b[0m\n\u001b[1;33m    invocations which are constructed according to the syntax of the language,\u001b[0m\n\u001b[1;37m    ^\u001b[0m\n\u001b[1;31mIndentationError\u001b[0m\u001b[1;31m:\u001b[0m unexpected indent\n"
     ]
    }
   ],
   "source": [
    "# 4. an expression is a construct made up of variables, operators and method \n",
    "    invocations which are constructed according to the syntax of the language,\n",
    "    that evaluatess to a single value."
   ]
  },
  {
   "cell_type": "code",
   "execution_count": 18,
   "id": "6d9d912f",
   "metadata": {},
   "outputs": [
    {
     "ename": "IndentationError",
     "evalue": "unindent does not match any outer indentation level (<tokenize>, line 3)",
     "output_type": "error",
     "traceback": [
      "\u001b[1;36m  File \u001b[1;32m\"<tokenize>\"\u001b[1;36m, line \u001b[1;32m3\u001b[0m\n\u001b[1;33m    statement   : it is a standalone unit of execution and doesnot return\u001b[0m\n\u001b[1;37m    ^\u001b[0m\n\u001b[1;31mIndentationError\u001b[0m\u001b[1;31m:\u001b[0m unindent does not match any outer indentation level\n"
     ]
    }
   ],
   "source": [
    "# 5. expression : combination of values and functions that are combined\n",
    "                and are interpreted by the compiler to create a new value.\n",
    "    statement   : it is a standalone unit of execution and doesnot return\n",
    "                anything."
   ]
  },
  {
   "cell_type": "code",
   "execution_count": 5,
   "id": "66caacd1",
   "metadata": {},
   "outputs": [],
   "source": [
    "# 6."
   ]
  },
  {
   "cell_type": "code",
   "execution_count": 2,
   "id": "2747a9d8",
   "metadata": {},
   "outputs": [],
   "source": [
    "bacon = 22"
   ]
  },
  {
   "cell_type": "code",
   "execution_count": 4,
   "id": "38c4964c",
   "metadata": {},
   "outputs": [
    {
     "data": {
      "text/plain": [
       "23"
      ]
     },
     "execution_count": 4,
     "metadata": {},
     "output_type": "execute_result"
    }
   ],
   "source": [
    " bacon+1"
   ]
  },
  {
   "cell_type": "code",
   "execution_count": 6,
   "id": "0beb162f",
   "metadata": {},
   "outputs": [],
   "source": [
    "# 7."
   ]
  },
  {
   "cell_type": "code",
   "execution_count": 7,
   "id": "41b8de50",
   "metadata": {},
   "outputs": [
    {
     "data": {
      "text/plain": [
       "'spamspamspam'"
      ]
     },
     "execution_count": 7,
     "metadata": {},
     "output_type": "execute_result"
    }
   ],
   "source": [
    "'spam' + 'spamspam'"
   ]
  },
  {
   "cell_type": "code",
   "execution_count": 8,
   "id": "af2a9e0c",
   "metadata": {},
   "outputs": [
    {
     "data": {
      "text/plain": [
       "'spamspamspam'"
      ]
     },
     "execution_count": 8,
     "metadata": {},
     "output_type": "execute_result"
    }
   ],
   "source": [
    "'spam'*3"
   ]
  },
  {
   "cell_type": "code",
   "execution_count": 19,
   "id": "63506455",
   "metadata": {},
   "outputs": [
    {
     "ename": "SyntaxError",
     "evalue": "invalid syntax (Temp/ipykernel_14188/3161482415.py, line 2)",
     "output_type": "error",
     "traceback": [
      "\u001b[1;36m  File \u001b[1;32m\"C:\\Users\\91903\\AppData\\Local\\Temp/ipykernel_14188/3161482415.py\"\u001b[1;36m, line \u001b[1;32m2\u001b[0m\n\u001b[1;33m    assign any value to 100.\u001b[0m\n\u001b[1;37m           ^\u001b[0m\n\u001b[1;31mSyntaxError\u001b[0m\u001b[1;31m:\u001b[0m invalid syntax\n"
     ]
    }
   ],
   "source": [
    "# 8. we can assign value to variable 'eggs'. as 100 is an integer we cant\n",
    "assign any value to 100."
   ]
  },
  {
   "cell_type": "code",
   "execution_count": 9,
   "id": "2ae968ff",
   "metadata": {},
   "outputs": [],
   "source": [
    "# 9. str(), int(), float()"
   ]
  },
  {
   "cell_type": "code",
   "execution_count": 10,
   "id": "5d2fd8bb",
   "metadata": {},
   "outputs": [
    {
     "ename": "TypeError",
     "evalue": "can only concatenate str (not \"int\") to str",
     "output_type": "error",
     "traceback": [
      "\u001b[1;31m---------------------------------------------------------------------------\u001b[0m",
      "\u001b[1;31mTypeError\u001b[0m                                 Traceback (most recent call last)",
      "\u001b[1;32m~\\AppData\\Local\\Temp/ipykernel_14188/552865289.py\u001b[0m in \u001b[0;36m<module>\u001b[1;34m\u001b[0m\n\u001b[1;32m----> 1\u001b[1;33m \u001b[1;34m'i have eaten'\u001b[0m \u001b[1;33m+\u001b[0m \u001b[1;36m99\u001b[0m \u001b[1;33m+\u001b[0m \u001b[1;34m'burritos'\u001b[0m\u001b[1;33m\u001b[0m\u001b[1;33m\u001b[0m\u001b[0m\n\u001b[0m",
      "\u001b[1;31mTypeError\u001b[0m: can only concatenate str (not \"int\") to str"
     ]
    }
   ],
   "source": [
    "'i have eaten' + 99 + 'burritos'"
   ]
  },
  {
   "cell_type": "code",
   "execution_count": 11,
   "id": "50674182",
   "metadata": {},
   "outputs": [
    {
     "data": {
      "text/plain": [
       "'i have eaten99burritos'"
      ]
     },
     "execution_count": 11,
     "metadata": {},
     "output_type": "execute_result"
    }
   ],
   "source": [
    "'i have eaten' + '99'+ 'burritos'"
   ]
  }
 ],
 "metadata": {
  "kernelspec": {
   "display_name": "Python 3 (ipykernel)",
   "language": "python",
   "name": "python3"
  },
  "language_info": {
   "codemirror_mode": {
    "name": "ipython",
    "version": 3
   },
   "file_extension": ".py",
   "mimetype": "text/x-python",
   "name": "python",
   "nbconvert_exporter": "python",
   "pygments_lexer": "ipython3",
   "version": "3.9.7"
  }
 },
 "nbformat": 4,
 "nbformat_minor": 5
}
