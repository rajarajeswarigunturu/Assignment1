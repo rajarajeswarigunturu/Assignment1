{
  "nbformat": 4,
  "nbformat_minor": 0,
  "metadata": {
    "colab": {
      "name": "practice5.ipynb",
      "provenance": [],
      "collapsed_sections": [],
      "authorship_tag": "ABX9TyP6kAfvHGJQ9V4QzIUE7sBx",
      "include_colab_link": true
    },
    "kernelspec": {
      "name": "python3",
      "display_name": "Python 3"
    },
    "language_info": {
      "name": "python"
    }
  },
  "cells": [
    {
      "cell_type": "markdown",
      "metadata": {
        "id": "view-in-github",
        "colab_type": "text"
      },
      "source": [
        "<a href=\"https://colab.research.google.com/github/rajarajeswarigunturu/Assignment1/blob/main/practice5.ipynb\" target=\"_parent\"><img src=\"https://colab.research.google.com/assets/colab-badge.svg\" alt=\"Open In Colab\"/></a>"
      ]
    },
    {
      "cell_type": "code",
      "execution_count": null,
      "metadata": {
        "id": "3ZoegsEsPMU5"
      },
      "outputs": [],
      "source": [
        "a=10"
      ]
    },
    {
      "cell_type": "code",
      "source": [
        "a<15"
      ],
      "metadata": {
        "colab": {
          "base_uri": "https://localhost:8080/"
        },
        "id": "-LtOb2c7Pk5n",
        "outputId": "b8936616-58d3-41fe-8325-f17922fbbcce"
      },
      "execution_count": null,
      "outputs": [
        {
          "output_type": "execute_result",
          "data": {
            "text/plain": [
              "True"
            ]
          },
          "metadata": {},
          "execution_count": 2
        }
      ]
    },
    {
      "cell_type": "code",
      "source": [
        "if a<15:\n",
        "  print(\"raji\")"
      ],
      "metadata": {
        "colab": {
          "base_uri": "https://localhost:8080/"
        },
        "id": "67f8vqARPsEa",
        "outputId": "5fa48a79-d3c7-4890-e1fa-c215f0a50cb7"
      },
      "execution_count": null,
      "outputs": [
        {
          "output_type": "stream",
          "name": "stdout",
          "text": [
            "raji\n"
          ]
        }
      ]
    },
    {
      "cell_type": "code",
      "source": [
        "a<15"
      ],
      "metadata": {
        "colab": {
          "base_uri": "https://localhost:8080/"
        },
        "id": "DRBAfRz1P3vW",
        "outputId": "0ba2411e-3ab1-45e5-b1a1-73a499d8bd0b"
      },
      "execution_count": null,
      "outputs": [
        {
          "output_type": "execute_result",
          "data": {
            "text/plain": [
              "True"
            ]
          },
          "metadata": {},
          "execution_count": 4
        }
      ]
    },
    {
      "cell_type": "code",
      "source": [
        "print(\"\")"
      ],
      "metadata": {
        "colab": {
          "base_uri": "https://localhost:8080/"
        },
        "id": "ylHyS1GaP6rK",
        "outputId": "2f9640d4-173c-4605-a8df-4d49325a133c"
      },
      "execution_count": null,
      "outputs": [
        {
          "output_type": "stream",
          "name": "stdout",
          "text": [
            "\n"
          ]
        }
      ]
    },
    {
      "cell_type": "code",
      "source": [
        "print(\" \")"
      ],
      "metadata": {
        "colab": {
          "base_uri": "https://localhost:8080/"
        },
        "id": "jslYQFMoP7-7",
        "outputId": "204f2b33-1489-421e-b25c-c96220f2b745"
      },
      "execution_count": null,
      "outputs": [
        {
          "output_type": "stream",
          "name": "stdout",
          "text": [
            " \n"
          ]
        }
      ]
    },
    {
      "cell_type": "code",
      "source": [
        "print(\" \"\" \" )"
      ],
      "metadata": {
        "colab": {
          "base_uri": "https://localhost:8080/"
        },
        "id": "jYa4pi9KP-GO",
        "outputId": "ab47352e-e749-4f36-8723-d666534b5808"
      },
      "execution_count": null,
      "outputs": [
        {
          "output_type": "stream",
          "name": "stdout",
          "text": [
            "  \n"
          ]
        }
      ]
    },
    {
      "cell_type": "code",
      "source": [
        "if a<15:\n",
        "  pass"
      ],
      "metadata": {
        "id": "MhH_PpQcQB3t"
      },
      "execution_count": null,
      "outputs": []
    },
    {
      "cell_type": "code",
      "source": [
        "if 24<15:\n",
        "  print(\"mass\")"
      ],
      "metadata": {
        "id": "mcxEkUAdQLsP"
      },
      "execution_count": null,
      "outputs": []
    },
    {
      "cell_type": "code",
      "source": [
        "24<15"
      ],
      "metadata": {
        "colab": {
          "base_uri": "https://localhost:8080/"
        },
        "id": "hwerJ5gTQQ8y",
        "outputId": "8beed62a-2d63-4c6c-c4cd-27ceacfbe8a0"
      },
      "execution_count": null,
      "outputs": [
        {
          "output_type": "execute_result",
          "data": {
            "text/plain": [
              "False"
            ]
          },
          "metadata": {},
          "execution_count": 11
        }
      ]
    },
    {
      "cell_type": "code",
      "source": [
        "if 24>15:\n",
        "  print(\"pinky\")"
      ],
      "metadata": {
        "colab": {
          "base_uri": "https://localhost:8080/"
        },
        "id": "rjbaRAupQZbf",
        "outputId": "4e06b5a4-e4c2-4795-fce0-102bdac981b7"
      },
      "execution_count": null,
      "outputs": [
        {
          "output_type": "stream",
          "name": "stdout",
          "text": [
            "pinky\n"
          ]
        }
      ]
    },
    {
      "cell_type": "code",
      "source": [
        "if 5>3:\n",
        "  print(\"5 is greater\")\n",
        "else:\n",
        "  print(\"3 is greater\")"
      ],
      "metadata": {
        "colab": {
          "base_uri": "https://localhost:8080/"
        },
        "id": "t-MpNc4xQfOd",
        "outputId": "40b8af77-b3b4-4233-aeec-70cdf7fac03f"
      },
      "execution_count": null,
      "outputs": [
        {
          "output_type": "stream",
          "name": "stdout",
          "text": [
            "5 is greater\n"
          ]
        }
      ]
    },
    {
      "cell_type": "code",
      "source": [
        "income=100\n",
        "if income < 50:\n",
        "  print(\"buy a phone\")\n",
        "elif income < 60:\n",
        "  print(\"chocolate\")\n",
        "elif income < 70:\n",
        "  print(\"cake\")\n",
        "else:\n",
        "  print(\"monkey\")"
      ],
      "metadata": {
        "colab": {
          "base_uri": "https://localhost:8080/"
        },
        "id": "wKCCtxWcQt9T",
        "outputId": "b41effac-b554-40da-ef34-424c60c2620e"
      },
      "execution_count": null,
      "outputs": [
        {
          "output_type": "stream",
          "name": "stdout",
          "text": [
            "monkey\n"
          ]
        }
      ]
    },
    {
      "cell_type": "code",
      "source": [
        "a= \"income\"\n",
        "b = \"cycle\"\n",
        "c = \"bike\"\n",
        "d= \"car\"\n",
        "e=\"plane\"\n",
        "\n",
        "a=int(input())\n",
        "if a<100:\n",
        "  print(b)\n",
        "elif a<150:\n",
        "  print(c)\n",
        "elif a<200:\n",
        "  print(d)\n",
        "elif a<250:\n",
        "  print(e)\n",
        "else:\n",
        "  print(\"nothing to buy\")"
      ],
      "metadata": {
        "colab": {
          "base_uri": "https://localhost:8080/"
        },
        "id": "xLg-lezTRPY_",
        "outputId": "737caa2e-d2f9-431f-9e17-892ba28be973"
      },
      "execution_count": null,
      "outputs": [
        {
          "output_type": "stream",
          "name": "stdout",
          "text": [
            "125\n",
            "bike\n"
          ]
        }
      ]
    },
    {
      "cell_type": "code",
      "source": [
        "a= \"income\"\n",
        "b = \"cycle\"\n",
        "c = \"bike\"\n",
        "d= \"car\"\n",
        "e=\"plane\"\n",
        "\n",
        "a=int(input())\n",
        "if a<100:\n",
        "  print(b)\n",
        "elif a<150:\n",
        "  print(c)\n",
        "elif a<200:\n",
        "  print(d)\n",
        "elif a<250:\n",
        "  print(e)\n",
        "else:\n",
        "  print(\"nothing to buy\")"
      ],
      "metadata": {
        "colab": {
          "base_uri": "https://localhost:8080/"
        },
        "id": "YCwsj7IJSPL4",
        "outputId": "a27ac36f-7b08-4f96-8eb3-8a064983f112"
      },
      "execution_count": null,
      "outputs": [
        {
          "output_type": "stream",
          "name": "stdout",
          "text": [
            "200\n",
            "plane\n"
          ]
        }
      ]
    },
    {
      "cell_type": "code",
      "source": [
        "income= int(input())\n",
        "if income > 50000:\n",
        "  print(\"i will buy an iphone\")\n",
        "elif income > 40000:\n",
        "  print(\"i will buy a vivo phone\")\n",
        "elif income > 30000:\n",
        "  print(\"i will buy a redmi phone\")\n",
        "elif income > 20000:\n",
        "  print(\"i will buy a oppo phone\")\n",
        "else:\n",
        "  print(\"nothing to buy\")"
      ],
      "metadata": {
        "colab": {
          "base_uri": "https://localhost:8080/"
        },
        "id": "eF3dIWSHSp8c",
        "outputId": "86c12957-ac50-4747-b38e-a4a3727f5856"
      },
      "execution_count": null,
      "outputs": [
        {
          "output_type": "stream",
          "name": "stdout",
          "text": [
            "45000\n",
            "i will buy a vivo phone\n"
          ]
        }
      ]
    },
    {
      "cell_type": "code",
      "source": [
        "income= int(input())\n",
        "if income > 50000:\n",
        "  print(\"i will buy an iphone\")\n",
        "elif income > 40000:\n",
        "  print(\"i will buy a vivo phone\")\n",
        "elif income > 30000:\n",
        "  print(\"i will buy a redmi phone\")\n",
        "elif income > 20000:\n",
        "  print(\"i will buy a oppo phone\")\n",
        "else:\n",
        "  print(\"nothing to buy\")"
      ],
      "metadata": {
        "colab": {
          "base_uri": "https://localhost:8080/"
        },
        "id": "ny127MHvThMI",
        "outputId": "bca6b7cb-0827-46cd-d625-5d4047e18adc"
      },
      "execution_count": null,
      "outputs": [
        {
          "output_type": "stream",
          "name": "stdout",
          "text": [
            "25000\n",
            "i will buy a oppo phone\n"
          ]
        }
      ]
    },
    {
      "cell_type": "code",
      "source": [
        "income= int(input())\n",
        "if income > 50000:\n",
        "  print(\"i will buy an iphone\")\n",
        "elif income > 40000:\n",
        "  print(\"i will buy a vivo phone\")\n",
        "elif income > 30000:\n",
        "  print(\"i will buy a redmi phone\")\n",
        "elif income > 20000:\n",
        "  print(\"i will buy a oppo phone\")\n",
        "else:\n",
        "  print(\"nothing to buy\")"
      ],
      "metadata": {
        "colab": {
          "base_uri": "https://localhost:8080/"
        },
        "id": "hxy0Yl9OTnvJ",
        "outputId": "579dc130-cba7-4998-f9c5-2732f38c82ef"
      },
      "execution_count": null,
      "outputs": [
        {
          "output_type": "stream",
          "name": "stdout",
          "text": [
            "35000\n",
            "i will buy a redmi phone\n"
          ]
        }
      ]
    },
    {
      "cell_type": "code",
      "source": [
        "income= int(input())\n",
        "if income > 50000:\n",
        "  print(\"i will buy an iphone\")\n",
        "elif income > 40000:\n",
        "  print(\"i will buy a vivo phone\")\n",
        "elif income > 30000:\n",
        "  print(\"i will buy a redmi phone\")\n",
        "elif income > 20000:\n",
        "  print(\"i will buy a oppo phone\")\n",
        "else:\n",
        "  print(\"nothing to buy\")"
      ],
      "metadata": {
        "colab": {
          "base_uri": "https://localhost:8080/"
        },
        "id": "6V9LMF1wTqS6",
        "outputId": "e4424277-bf2d-4561-f6ff-80c04643327e"
      },
      "execution_count": null,
      "outputs": [
        {
          "output_type": "stream",
          "name": "stdout",
          "text": [
            "55000\n",
            "i will buy an iphone\n"
          ]
        }
      ]
    },
    {
      "cell_type": "code",
      "source": [
        "total_price=int(input(\"course amount is:\"))\n",
        "if total_price < 10000:\n",
        "  discount=total_price*0.05\n",
        "  print(discount)\n",
        "  amount_to_be_paid=total_price-discount\n",
        "  print(\"amount to be paid after discount is:\", amount_to_be_paid)\n",
        "elif total_price < 20000:\n",
        "  discount=total_price*0.06\n",
        "  print(discount)\n",
        "  amount_to_be_paid=total_price-discount\n",
        "  print(\"amount to be paid after discount is:\", amount_to_be_paid)\n",
        "elif total_price < 30000:\n",
        "  discount=total_price*0.08\n",
        "  print(discount)\n",
        "  amount_to_be_paid=total_price-discount\n",
        "  print(\"amount to be paid after discount is:\", amount_to_be_paid)\n",
        "else:\n",
        "  print(\"no discounts for remaining amounts\")\n"
      ],
      "metadata": {
        "colab": {
          "base_uri": "https://localhost:8080/"
        },
        "id": "EkpBGd4NTsrl",
        "outputId": "b3906002-dba4-41e1-9c12-2e17fe4811d7"
      },
      "execution_count": null,
      "outputs": [
        {
          "output_type": "stream",
          "name": "stdout",
          "text": [
            "course amount is:12000\n",
            "720.0\n",
            "amount to be paid after discount is: 11280.0\n"
          ]
        }
      ]
    },
    {
      "cell_type": "code",
      "source": [
        "total_price=int(input(\"course amount is:\"))\n",
        "if total_price < 10000:\n",
        "  discount=total_price*0.05\n",
        "  print(discount)\n",
        "  amount_to_be_paid=total_price-discount\n",
        "  print(\"amount to be paid after discount is:\", amount_to_be_paid)\n",
        "elif total_price < 20000:\n",
        "  discount=total_price*0.06\n",
        "  print(discount)\n",
        "  amount_to_be_paid=total_price-discount\n",
        "  print(\"amount to be paid after discount is:\", amount_to_be_paid)\n",
        "elif total_price < 30000:\n",
        "  discount=total_price*0.08\n",
        "  print(discount)\n",
        "  amount_to_be_paid=total_price-discount\n",
        "  print(\"amount to be paid after discount is:\", amount_to_be_paid)\n",
        "else:\n",
        "  print(\"no discounts for remaining amounts\")"
      ],
      "metadata": {
        "colab": {
          "base_uri": "https://localhost:8080/"
        },
        "id": "zuHgiktHVU_M",
        "outputId": "5f2694b1-5a88-447f-df69-262f22210bb4"
      },
      "execution_count": null,
      "outputs": [
        {
          "output_type": "stream",
          "name": "stdout",
          "text": [
            "course amount is:5000\n",
            "250.0\n",
            "amount to be paid after discount is: 4750.0\n"
          ]
        }
      ]
    },
    {
      "cell_type": "code",
      "source": [
        "total_price=int(input(\"course amount is:\"))\n",
        "if total_price < 10000:\n",
        "  discount=total_price*0.05\n",
        "  print(discount)\n",
        "  amount_to_be_paid=total_price-discount\n",
        "  print(\"amount to be paid after discount is:\", amount_to_be_paid)\n",
        "elif total_price < 20000:\n",
        "  discount=total_price*0.06\n",
        "  print(discount)\n",
        "  amount_to_be_paid=total_price-discount\n",
        "  print(\"amount to be paid after discount is:\", amount_to_be_paid)\n",
        "elif total_price < 30000:\n",
        "  discount=total_price*0.08\n",
        "  print(discount)\n",
        "  amount_to_be_paid=total_price-discount\n",
        "  print(\"amount to be paid after discount is:\", amount_to_be_paid)\n",
        "else:\n",
        "  print(\"no discounts for remaining amounts\")"
      ],
      "metadata": {
        "colab": {
          "base_uri": "https://localhost:8080/"
        },
        "id": "FgPFcbLJWFjo",
        "outputId": "c43fcd65-53bf-442c-aad5-3935e8a261b6"
      },
      "execution_count": null,
      "outputs": [
        {
          "output_type": "stream",
          "name": "stdout",
          "text": [
            "course amount is:25000\n",
            "2000.0\n",
            "amount to be paid after discount is: 23000.0\n"
          ]
        }
      ]
    },
    {
      "cell_type": "code",
      "source": [
        "coup_code=\"raji\"\n",
        "if coup_code==\"raji\":\n",
        "  print(\"you will be able to get 5% discount on your course\")\n",
        "  amount=7000-7000*0.05\n",
        "  print(\"after discount you have to pay the amount:\", amount)\n",
        "else:\n",
        "  print(\"no discount available\")"
      ],
      "metadata": {
        "colab": {
          "base_uri": "https://localhost:8080/"
        },
        "id": "4MitIZXyWLM9",
        "outputId": "4e6db570-52ab-4a37-ed62-62fb3389c488"
      },
      "execution_count": null,
      "outputs": [
        {
          "output_type": "stream",
          "name": "stdout",
          "text": [
            "you will be able to get 5% discount on your course\n",
            "after discount you have to pay the amount: 6650.0\n"
          ]
        }
      ]
    },
    {
      "cell_type": "code",
      "source": [
        "study_hour=float(input())\n",
        "if study_hour < 1:\n",
        "  print(\"it will take 9 months to finish the course\")\n",
        "elif study_hour < 2 and study_hour > 1:\n",
        "  print(\"it will take 8 months to finish the course\")\n",
        "else:\n",
        "  print(\"it takes 12 months to finish the course\")"
      ],
      "metadata": {
        "colab": {
          "base_uri": "https://localhost:8080/"
        },
        "id": "8yiIjqaWYSsy",
        "outputId": "8134a5af-91c4-4758-8e29-2a79214bf418"
      },
      "execution_count": null,
      "outputs": [
        {
          "output_type": "stream",
          "name": "stdout",
          "text": [
            "1.5\n",
            "it will take 8 months to finish the course\n"
          ]
        }
      ]
    },
    {
      "cell_type": "code",
      "source": [
        "study_hour=float(input())\n",
        "if study_hour < 1:\n",
        "  print(\"it will take 9 months to finish the course\")\n",
        "elif study_hour < 2 and study_hour > 1:\n",
        "  print(\"it will take 8 months to finish the course\")\n",
        "else:\n",
        "  print(\"it takes 12 months to finish the course\")"
      ],
      "metadata": {
        "colab": {
          "base_uri": "https://localhost:8080/"
        },
        "id": "PG_xNJTzZVQO",
        "outputId": "cf6458f2-4748-4b16-df80-e9aded160a58"
      },
      "execution_count": null,
      "outputs": [
        {
          "output_type": "stream",
          "name": "stdout",
          "text": [
            "0.9\n",
            "it will take 9 months to finish the course\n"
          ]
        }
      ]
    },
    {
      "cell_type": "code",
      "source": [
        "study_hour=float(input())\n",
        "if study_hour < 1:\n",
        "  print(\"it will take 9 months to finish the course\")\n",
        "elif study_hour < 2 and study_hour > 1:\n",
        "  print(\"it will take 8 months to finish the course\")\n",
        "else:\n",
        "  print(\"it takes 12 months to finish the course\")"
      ],
      "metadata": {
        "colab": {
          "base_uri": "https://localhost:8080/"
        },
        "id": "kNsaBZ7tZj4A",
        "outputId": "c4b88e5f-034e-4b4d-ba46-9d94d0fcb5d4"
      },
      "execution_count": null,
      "outputs": [
        {
          "output_type": "stream",
          "name": "stdout",
          "text": [
            "3\n",
            "it takes 12 months to finish the course\n"
          ]
        }
      ]
    },
    {
      "cell_type": "code",
      "source": [
        "a=9\n",
        "if a==9:\n",
        "  print(\"valid\")"
      ],
      "metadata": {
        "colab": {
          "base_uri": "https://localhost:8080/"
        },
        "id": "8g-Ggw7MZonn",
        "outputId": "9664d3ad-5622-4149-eebc-91596d5a6473"
      },
      "execution_count": null,
      "outputs": [
        {
          "output_type": "stream",
          "name": "stdout",
          "text": [
            "valid\n"
          ]
        }
      ]
    },
    {
      "cell_type": "code",
      "source": [
        "a=input(\"college name:\")\n",
        "b=input(\"branch name:\")\n",
        "c=input(\"branch type:\")\n",
        "\n",
        "if a==\"pnc college\":\n",
        "  if b==\"medicine\":\n",
        "    if c==\"cardio\":\n",
        "      print(\"cardiology\")\n",
        "    elif c==\"neuro\":\n",
        "      print(\"neurology\")\n",
        "    elif c==\"general\":\n",
        "      print(\"alldepts\")\n",
        "    else:\n",
        "      print(\"nothing\")\n",
        "  elif b==\"msc\":\n",
        "    if c==\"biotech\":\n",
        "      print(\"biotechnology\")\n",
        "    elif c==\"biochem\":\n",
        "      print(\"biochemistry\")\n",
        "    elif c==\"bioinfo\":\n",
        "      print(\"bioinformatics\")\n",
        "    else:\n",
        "      print(\"no vacancies\")\n",
        "  else:\n",
        "    print(\"no more vacancies in our college\")\n",
        "else:\n",
        "  print(\"housefull\")\n",
        "  \n",
        "\n"
      ],
      "metadata": {
        "colab": {
          "base_uri": "https://localhost:8080/"
        },
        "id": "Qj1axxFFZvzc",
        "outputId": "5532159b-791b-465f-fff9-220a96524614"
      },
      "execution_count": null,
      "outputs": [
        {
          "output_type": "stream",
          "name": "stdout",
          "text": [
            "college name:pnc college\n",
            "branch name:msc\n",
            "branch type:biotech\n",
            "biotechnology\n"
          ]
        }
      ]
    },
    {
      "cell_type": "code",
      "source": [
        "a=input(\"first generation name:\")\n",
        "b=input(\"second generation name:\")\n",
        "c=input(\"third generation name:\")\n",
        "if a==\"venkayamma\":\n",
        "  print(\"daughters- peddammai,chittemma,ramadevi,koti,dhanam,jayamma\")\n",
        "  if b==\"peddammai\":\n",
        "    print(\"yashoda,parvathi,anuradha\")\n",
        "    if c==\"yashoda\":\n",
        "      print(\"jayasri,chanti\")\n",
        "    elif c==\"parvathi\":\n",
        "      print(\"prasad,kumar\")\n",
        "    elif c==\"anuradha\":\n",
        "      print(\"ramya,bhuvana\")\n",
        "    else:\n",
        "      print(\"not her children\")\n",
        "  elif b==\"chittemma\":\n",
        "    print(\"padma,parvathi,siva\")\n",
        "    if c==\"padma\":\n",
        "      print(\"pavan,manikanta\")\n",
        "    elif c==\"parvathi\":\n",
        "      print(\"jagadish,lavanya\")\n",
        "    elif c==\"siva\":\n",
        "      print(\"mahathi,nithya\")\n",
        "    else:\n",
        "      print(\"not her children\")\n",
        "  elif b==\"ramadevi\":\n",
        "    print(\"ramu,prameela,subbarao,srinu\")\n",
        "    if c==\"ramu\":\n",
        "      print(\"srujana\")\n",
        "    elif c==\"subbarao\":\n",
        "      print(\"smruthi,aditya\")\n",
        "    elif c==\"srinu\":\n",
        "      print(\"guru,sushma\")\n",
        "    elif c==\"prameela\":\n",
        "      print(\"pandu,avinash\")\n",
        "    else:\n",
        "      print(\"not her children\")\n",
        "  elif b==\"koti\":\n",
        "    print(\"peddabujji,chinnabujji\")\n",
        "    if c==\"peddabujji\":\n",
        "      print(\"ammai\")\n",
        "    elif c==\"chinnabujji\":\n",
        "      print(\"sai,chanikya\")\n",
        "    else:\n",
        "      print(\"not her children\")\n",
        "  elif b==\"dhanam\":\n",
        "    print(\"prabhakar.venkateswarlu\")\n",
        "    if c==\"prabhakar\":\n",
        "      print(\"peddasony,chinnasony\")\n",
        "    elif c==\"venkateswarlu\":\n",
        "      print(\"sivamani,chinnu\")\n",
        "    else:\n",
        "      print(\"not her children\")\n",
        "  elif b==\"jayamma\":\n",
        "    print(\"sridevi,parvathi,prasad\")\n",
        "    if c==\"sridevi\":\n",
        "      print(\"teja,mohith\")\n",
        "    elif c==\"parvthi\":\n",
        "      print(\"lucky,honey\")\n",
        "    elif c==\"prasad\":\n",
        "      print(\"tony,lochu\")\n",
        "  else:\n",
        "    print(\"not her children\")\n",
        "else:\n",
        "  print(\"not her children\")"
      ],
      "metadata": {
        "colab": {
          "base_uri": "https://localhost:8080/"
        },
        "id": "P_8xUuRAdEBy",
        "outputId": "a3e15298-ac35-4a3a-b26e-b792554b0871"
      },
      "execution_count": null,
      "outputs": [
        {
          "output_type": "stream",
          "name": "stdout",
          "text": [
            "first generation name:venkayamma\n",
            "second generation name:peddammai\n",
            "third generation name:yashoda\n",
            "daughters- peddammai,chittemma,ramadevi,koti,dhanam,jayamma\n",
            "yashoda,parvathi,anuradha\n",
            "jayasri,chanti\n"
          ]
        }
      ]
    },
    {
      "cell_type": "code",
      "source": [
        "a=input(\"first generation name:\")\n",
        "b=input(\"second generation name:\")\n",
        "c=input(\"third generation name:\")\n",
        "if a==\"venkayamma\":\n",
        "  print(\"daughters- peddammai,chittemma,ramadevi,koti,dhanam,jayamma\")\n",
        "  if b==\"peddammai\":\n",
        "    print(\"yashoda,parvathi,anuradha\")\n",
        "    if c==\"yashoda\":\n",
        "      print(\"jayasri,chanti\")\n",
        "    elif c==\"parvathi\":\n",
        "      print(\"prasad,kumar\")\n",
        "    elif c==\"anuradha\":\n",
        "      print(\"ramya,bhuvana\")\n",
        "    else:\n",
        "      print(\"not her children\")\n",
        "  elif b==\"chittemma\":\n",
        "    print(\"padma,parvathi,siva\")\n",
        "    if c==\"padma\":\n",
        "      print(\"pavan,manikanta\")\n",
        "    elif c==\"parvathi\":\n",
        "      print(\"jagadish,lavanya\")\n",
        "    elif c==\"siva\":\n",
        "      print(\"mahathi,nithya\")\n",
        "    else:\n",
        "      print(\"not her children\")\n",
        "  elif b==\"ramadevi\":\n",
        "    print(\"ramu,prameela,subbarao,srinu\")\n",
        "    if c==\"ramu\":\n",
        "      print(\"srujana\")\n",
        "    elif c==\"subbarao\":\n",
        "      print(\"smruthi,aditya\")\n",
        "    elif c==\"srinu\":\n",
        "      print(\"guru,sushma\")\n",
        "    elif c==\"prameela\":\n",
        "      print(\"pandu,avinash\")\n",
        "    else:\n",
        "      print(\"not her children\")\n",
        "  elif b==\"koti\":\n",
        "    print(\"peddabujji,chinnabujji\")\n",
        "    if c==\"peddabujji\":\n",
        "      print(\"ammai\")\n",
        "    elif c==\"chinnabujji\":\n",
        "      print(\"sai,chanikya\")\n",
        "    else:\n",
        "      print(\"not her children\")\n",
        "  elif b==\"dhanam\":\n",
        "    print(\"prabhakar.venkateswarlu\")\n",
        "    if c==\"prabhakar\":\n",
        "      print(\"peddasony,chinnasony\")\n",
        "    elif c==\"venkateswarlu\":\n",
        "      print(\"sivamani,chinnu\")\n",
        "    else:\n",
        "      print(\"not her children\")\n",
        "  elif b==\"jayamma\":\n",
        "    print(\"sridevi,parvathi,prasad\")\n",
        "    if c==\"sridevi\":\n",
        "      print(\"teja,mohith\")\n",
        "    elif c==\"parvathi\":\n",
        "      print(\"lucky,honey\")\n",
        "    elif c==\"prasad\":\n",
        "      print(\"tony,lochu\")\n",
        "  else:\n",
        "    print(\"not her children\")\n",
        "else:\n",
        "  print(\"not her children\")"
      ],
      "metadata": {
        "colab": {
          "base_uri": "https://localhost:8080/"
        },
        "id": "eUCT8J_giB2L",
        "outputId": "c6cdb3c6-2b51-43a6-cc63-66b3a1aa252e"
      },
      "execution_count": null,
      "outputs": [
        {
          "output_type": "stream",
          "name": "stdout",
          "text": [
            "first generation name:venkayamma\n",
            "second generation name:subbamma\n",
            "third generation name:bodamma\n",
            "daughters- peddammai,chittemma,ramadevi,koti,dhanam,jayamma\n",
            "not her children\n"
          ]
        }
      ]
    },
    {
      "cell_type": "code",
      "source": [
        "a=input(\"first generation name:\")\n",
        "if a==\"ramanamma\":\n",
        "  print(\"ramakanth  rambabu  ramadevi\")\n",
        "\n",
        "b=input(\"second generation name:\")\n",
        "c=input(\"third generation name:\")\n",
        "\n",
        "if b==\"ramakanth\":\n",
        "  print(\"dattu  ramya\")\n",
        "  if c==\"dattu\":\n",
        "    print(\"wife-hema,baby-kinnu\")\n",
        "  elif c==\"ramya\":\n",
        "    print(\"hubby-anand, children-pandu and himmu\")\n",
        "  else:\n",
        "    print(\"not his children\")\n",
        "elif b==\"rambabu\":\n",
        "  print(\"tinku\")\n",
        "  if c==\"tinku\":\n",
        "    print(\"hubby-saahu\")\n",
        "  else:\n",
        "    print(\"not his children\")\n",
        "elif b==\"ramadevi\":\n",
        "  print(\"raji  manasa\")\n",
        "  if c==\"raji\":\n",
        "    print(\"hubby-pavan, children-sanvi and seivi\")\n",
        "  elif c==\"manasa\":\n",
        "    print(\"no more\")\n",
        "  else:\n",
        "    print(\"not her children\")\n",
        "else:\n",
        "  print(\"not her children\")"
      ],
      "metadata": {
        "colab": {
          "base_uri": "https://localhost:8080/"
        },
        "id": "XzQljJQ4i3eb",
        "outputId": "2ac06792-fa4b-42d9-a7b4-dc9acda692ef"
      },
      "execution_count": null,
      "outputs": [
        {
          "output_type": "stream",
          "name": "stdout",
          "text": [
            "first generation name:ramanamma\n",
            "ramakanth  rambabu  ramadevi\n",
            "second generation name:ramadevi\n",
            "third generation name:manasa\n",
            "raji  manasa\n",
            "no more\n"
          ]
        }
      ]
    },
    {
      "cell_type": "code",
      "source": [
        "a=input(\"first generation name:\")\n",
        "if a==\"ramanamma\":\n",
        "  print(\"ramakanth  rambabu  ramadevi\")\n",
        "\n",
        "b=input(\"second generation name:\")\n",
        "c=input(\"third generation name:\")\n",
        "\n",
        "if b==\"ramakanth\":\n",
        "  print(\"dattu  ramya\")\n",
        "  if c==\"dattu\":\n",
        "    print(\"wife-hema,baby-kinnu\")\n",
        "  elif c==\"ramya\":\n",
        "    print(\"hubby-anand, children-pandu and himmu\")\n",
        "  else:\n",
        "    print(\"not his children\")\n",
        "elif b==\"rambabu\":\n",
        "  print(\"tinku\")\n",
        "  if c==\"tinku\":\n",
        "    print(\"hubby-saahu\")\n",
        "  else:\n",
        "    print(\"not his children\")\n",
        "elif b==\"ramadevi\":\n",
        "  print(\"raji  manasa\")\n",
        "  if c==\"raji\":\n",
        "    print(\"hubby-pavan, children-sanvi and seivi\")\n",
        "  elif c==\"manasa\":\n",
        "    print(\"no more\")\n",
        "  else:\n",
        "    print(\"not her children\")\n",
        "else:\n",
        "  print(\"not her children\")"
      ],
      "metadata": {
        "colab": {
          "base_uri": "https://localhost:8080/"
        },
        "id": "9T78SwDZlmoC",
        "outputId": "e5272605-c4f5-4d09-ab0e-30b552757052"
      },
      "execution_count": null,
      "outputs": [
        {
          "output_type": "stream",
          "name": "stdout",
          "text": [
            "first generation name:ramanamma\n",
            "ramakanth  rambabu  ramadevi\n",
            "second generation name:ramadevi\n",
            "third generation name:raji\n",
            "raji  manasa\n",
            "hubby-pavan, children-sanvi and seivi\n"
          ]
        }
      ]
    },
    {
      "cell_type": "code",
      "source": [
        "a=input(\"first generation name:\")\n",
        "b=input(\"second generation name:\")\n",
        "c=input(\"third generation name:\")\n",
        "if a==\"venkayamma\":\n",
        "  print(\"daughters- peddammai,chittemma,ramadevi,koti,dhanam,jayamma\")\n",
        "  if b==\"peddammai\":\n",
        "    print(\"yashoda,parvathi,anuradha\")\n",
        "    if c==\"yashoda\":\n",
        "      print(\"jayasri,chanti\")\n",
        "    elif c==\"parvathi\":\n",
        "      print(\"prasad,kumar\")\n",
        "    elif c==\"anuradha\":\n",
        "      print(\"ramya,bhuvana\")\n",
        "    else:\n",
        "      print(\"not her children\")\n",
        "  elif b==\"chittemma\":\n",
        "    print(\"padma,parvathi,siva\")\n",
        "    if c==\"padma\":\n",
        "      print(\"pavan,manikanta\")\n",
        "    elif c==\"parvathi\":\n",
        "      print(\"jagadish,lavanya\")\n",
        "    elif c==\"siva\":\n",
        "      print(\"mahathi,nithya\")\n",
        "    else:\n",
        "      print(\"not her children\")\n",
        "  elif b==\"ramadevi\":\n",
        "    print(\"ramu,prameela,subbarao,srinu\")\n",
        "    if c==\"ramu\":\n",
        "      print(\"srujana\")\n",
        "    elif c==\"subbarao\":\n",
        "      print(\"smruthi,aditya\")\n",
        "    elif c==\"srinu\":\n",
        "      print(\"guru,sushma\")\n",
        "    elif c==\"prameela\":\n",
        "      print(\"pandu,avinash\")\n",
        "    else:\n",
        "      print(\"not her children\")\n",
        "  elif b==\"koti\":\n",
        "    print(\"peddabujji,chinnabujji\")\n",
        "    if c==\"peddabujji\":\n",
        "      print(\"ammai\")\n",
        "    elif c==\"chinnabujji\":\n",
        "      print(\"sai,chanikya\")\n",
        "    else:\n",
        "      print(\"not her children\")\n",
        "  elif b==\"dhanam\":\n",
        "    print(\"prabhakar.venkateswarlu\")\n",
        "    if c==\"prabhakar\":\n",
        "      print(\"peddasony,chinnasony\")\n",
        "    elif c==\"venkateswarlu\":\n",
        "      print(\"sivamani,chinnu\")\n",
        "    else:\n",
        "      print(\"not her children\")\n",
        "  elif b==\"jayamma\":\n",
        "    print(\"sridevi,parvathi,prasad\")\n",
        "    if c==\"sridevi\":\n",
        "      print(\"teja,mohith\")\n",
        "    elif c==\"parvathi\":\n",
        "      print(\"lucky,honey\")\n",
        "    elif c==\"prasad\":\n",
        "      print(\"tony,lochu\")\n",
        "  else:\n",
        "    print(\"not her children\")\n",
        "else:\n",
        "  print(\"not her children\")"
      ],
      "metadata": {
        "colab": {
          "base_uri": "https://localhost:8080/"
        },
        "id": "30eEwSKPmHF0",
        "outputId": "90b3cec5-84fa-49f9-ef06-a2ecc10b88d7"
      },
      "execution_count": null,
      "outputs": [
        {
          "output_type": "stream",
          "name": "stdout",
          "text": [
            "first generation name:venkayamma\n",
            "second generation name:jayamma\n",
            "third generation name:sridevi\n",
            "daughters- peddammai,chittemma,ramadevi,koti,dhanam,jayamma\n",
            "sridevi,parvathi,prasad\n",
            "teja,mohith\n"
          ]
        }
      ]
    },
    {
      "cell_type": "code",
      "source": [
        "l=[1,2,3,4,5]"
      ],
      "metadata": {
        "id": "5JTylQb4mZuE"
      },
      "execution_count": null,
      "outputs": []
    },
    {
      "cell_type": "code",
      "source": [
        "for i in l:\n",
        "  print(i)"
      ],
      "metadata": {
        "colab": {
          "base_uri": "https://localhost:8080/"
        },
        "id": "Eo1_UY4FoR7y",
        "outputId": "0a91e8b5-a88c-4971-8a87-c47d602b29ca"
      },
      "execution_count": null,
      "outputs": [
        {
          "output_type": "stream",
          "name": "stdout",
          "text": [
            "1\n",
            "2\n",
            "3\n",
            "4\n",
            "5\n"
          ]
        }
      ]
    },
    {
      "cell_type": "code",
      "source": [
        "for i in l:\n",
        "  print(3)"
      ],
      "metadata": {
        "colab": {
          "base_uri": "https://localhost:8080/"
        },
        "id": "GR8RrRb0oUYX",
        "outputId": "2858a26c-2ddd-43ff-a199-2250cf751d6f"
      },
      "execution_count": null,
      "outputs": [
        {
          "output_type": "stream",
          "name": "stdout",
          "text": [
            "3\n",
            "3\n",
            "3\n",
            "3\n",
            "3\n"
          ]
        }
      ]
    },
    {
      "cell_type": "code",
      "source": [
        "s=\"raji\"\n",
        "for i in s:\n",
        "  print(s)"
      ],
      "metadata": {
        "colab": {
          "base_uri": "https://localhost:8080/"
        },
        "id": "UfPQpWEeoYva",
        "outputId": "fdc88386-9416-45f8-d488-2609aa3c3b47"
      },
      "execution_count": null,
      "outputs": [
        {
          "output_type": "stream",
          "name": "stdout",
          "text": [
            "raji\n",
            "raji\n",
            "raji\n",
            "raji\n"
          ]
        }
      ]
    },
    {
      "cell_type": "code",
      "source": [
        "for i in s:\n",
        "  print(i)"
      ],
      "metadata": {
        "colab": {
          "base_uri": "https://localhost:8080/"
        },
        "id": "7dNp8lRiodTR",
        "outputId": "1dcac525-e61c-45d8-80a4-a0abd1b8b769"
      },
      "execution_count": null,
      "outputs": [
        {
          "output_type": "stream",
          "name": "stdout",
          "text": [
            "r\n",
            "a\n",
            "j\n",
            "i\n"
          ]
        }
      ]
    },
    {
      "cell_type": "code",
      "source": [
        "for i in reversed(s):\n",
        "  print(i)"
      ],
      "metadata": {
        "colab": {
          "base_uri": "https://localhost:8080/"
        },
        "id": "uWmom8wxoipp",
        "outputId": "81b6e4aa-1946-43b3-d570-c14e94695dc8"
      },
      "execution_count": null,
      "outputs": [
        {
          "output_type": "stream",
          "name": "stdout",
          "text": [
            "i\n",
            "j\n",
            "a\n",
            "r\n"
          ]
        }
      ]
    },
    {
      "cell_type": "code",
      "source": [
        "t=(1,2,3,3,3,4,5,6)"
      ],
      "metadata": {
        "id": "i_IsHj3Doo9S"
      },
      "execution_count": null,
      "outputs": []
    },
    {
      "cell_type": "code",
      "source": [
        "for i in t:\n",
        "  print(i)"
      ],
      "metadata": {
        "colab": {
          "base_uri": "https://localhost:8080/"
        },
        "id": "CK7qb8OAovOe",
        "outputId": "358beb85-03e9-4625-8e73-35fe72791bd4"
      },
      "execution_count": null,
      "outputs": [
        {
          "output_type": "stream",
          "name": "stdout",
          "text": [
            "1\n",
            "2\n",
            "3\n",
            "3\n",
            "3\n",
            "4\n",
            "5\n",
            "6\n"
          ]
        }
      ]
    },
    {
      "cell_type": "code",
      "source": [
        "for i in t:\n",
        "  print(t)"
      ],
      "metadata": {
        "colab": {
          "base_uri": "https://localhost:8080/"
        },
        "id": "V4YSYt-9oyE2",
        "outputId": "586ca2eb-0c38-4a2e-fd4b-a80e2f84da2c"
      },
      "execution_count": null,
      "outputs": [
        {
          "output_type": "stream",
          "name": "stdout",
          "text": [
            "(1, 2, 3, 3, 3, 4, 5, 6)\n",
            "(1, 2, 3, 3, 3, 4, 5, 6)\n",
            "(1, 2, 3, 3, 3, 4, 5, 6)\n",
            "(1, 2, 3, 3, 3, 4, 5, 6)\n",
            "(1, 2, 3, 3, 3, 4, 5, 6)\n",
            "(1, 2, 3, 3, 3, 4, 5, 6)\n",
            "(1, 2, 3, 3, 3, 4, 5, 6)\n",
            "(1, 2, 3, 3, 3, 4, 5, 6)\n"
          ]
        }
      ]
    },
    {
      "cell_type": "code",
      "source": [
        "l=[2,4,\"raji\",6.3,3.5j,True,5]\n",
        "for i in l:\n",
        "  print(type(i))"
      ],
      "metadata": {
        "colab": {
          "base_uri": "https://localhost:8080/"
        },
        "id": "fm68o3n6pA_O",
        "outputId": "493dba61-6e72-4cbc-9c2e-57aeedff748c"
      },
      "execution_count": null,
      "outputs": [
        {
          "output_type": "stream",
          "name": "stdout",
          "text": [
            "<class 'int'>\n",
            "<class 'int'>\n",
            "<class 'str'>\n",
            "<class 'float'>\n",
            "<class 'complex'>\n",
            "<class 'bool'>\n",
            "<class 'int'>\n"
          ]
        }
      ]
    },
    {
      "cell_type": "code",
      "source": [
        "l=[2,4,\"raji\",6.3,3.5j,True,5]\n",
        "for i in l:\n",
        "  print(type(i),i)"
      ],
      "metadata": {
        "colab": {
          "base_uri": "https://localhost:8080/"
        },
        "id": "8-dqoayhpWg4",
        "outputId": "a6165372-6218-4359-a2b1-6166ae1c24b3"
      },
      "execution_count": null,
      "outputs": [
        {
          "output_type": "stream",
          "name": "stdout",
          "text": [
            "<class 'int'> 2\n",
            "<class 'int'> 4\n",
            "<class 'str'> raji\n",
            "<class 'float'> 6.3\n",
            "<class 'complex'> 3.5j\n",
            "<class 'bool'> True\n",
            "<class 'int'> 5\n"
          ]
        }
      ]
    },
    {
      "cell_type": "code",
      "source": [
        "l=[2,4,\"raji\",6.3,3.5j,True,5]\n",
        "for i in l:\n",
        "  print(\"type(i):\",type(i))"
      ],
      "metadata": {
        "colab": {
          "base_uri": "https://localhost:8080/"
        },
        "id": "3osEX-Jepdfj",
        "outputId": "e3869887-a92c-4a32-acc0-ea35e678aed4"
      },
      "execution_count": null,
      "outputs": [
        {
          "output_type": "stream",
          "name": "stdout",
          "text": [
            "type(i): <class 'int'>\n",
            "type(i): <class 'int'>\n",
            "type(i): <class 'str'>\n",
            "type(i): <class 'float'>\n",
            "type(i): <class 'complex'>\n",
            "type(i): <class 'bool'>\n",
            "type(i): <class 'int'>\n"
          ]
        }
      ]
    },
    {
      "cell_type": "code",
      "source": [
        "a=str(input(\"enter name:\"))\n",
        "print(a)\n",
        "b=int(input(\"physics marks\"))\n",
        "print(b)\n",
        "c=int(input(\"chemistry marks:\"))\n",
        "print(c)\n",
        "d=int(input(\"maths marks:\"))\n",
        "print(d)\n",
        "\n"
      ],
      "metadata": {
        "id": "UuOjK53DpqOP",
        "colab": {
          "base_uri": "https://localhost:8080/"
        },
        "outputId": "e95f6c4a-68b1-4e1e-d912-588f6df16538"
      },
      "execution_count": null,
      "outputs": [
        {
          "output_type": "stream",
          "name": "stdout",
          "text": [
            "enter name:smruthi\n",
            "smruthi\n",
            "physics marks56\n",
            "56\n",
            "chemistry marks:36\n",
            "36\n",
            "maths marks:56\n",
            "56\n"
          ]
        }
      ]
    },
    {
      "cell_type": "code",
      "source": [
        "a=str(input(\"enter name:\"))\n",
        "b=int(input(\"physics marks\"))\n",
        "c=int(input(\"chemistry marks:\"))\n",
        "d=int(input(\"maths marks:\"))\n",
        "\n",
        "total=b+c+d\n",
        "print(\"total:\", total)\n",
        "avg=total/3\n",
        "\n",
        "print(a, \"average is\", avg)\n"
      ],
      "metadata": {
        "colab": {
          "base_uri": "https://localhost:8080/"
        },
        "id": "kllIt-8pWSuY",
        "outputId": "dd08fbd9-c7c5-43e7-c978-04bccdfdfa82"
      },
      "execution_count": null,
      "outputs": [
        {
          "output_type": "stream",
          "name": "stdout",
          "text": [
            "enter name:siri\n",
            "physics marks40\n",
            "chemistry marks:20\n",
            "maths marks:50\n",
            "total: 110\n",
            "siri average is 36.666666666666664\n"
          ]
        }
      ]
    },
    {
      "cell_type": "code",
      "source": [
        "l=[4,5,6,7]\n",
        "s=[]\n",
        "for i in l:\n",
        "  print(i+2)\n",
        "  s.append(i+2)"
      ],
      "metadata": {
        "colab": {
          "base_uri": "https://localhost:8080/"
        },
        "id": "tCPYwI4GXAQT",
        "outputId": "c89d568e-3b08-4463-c9bf-0af8d5569a3a"
      },
      "execution_count": null,
      "outputs": [
        {
          "output_type": "stream",
          "name": "stdout",
          "text": [
            "6\n",
            "7\n",
            "8\n",
            "9\n"
          ]
        }
      ]
    },
    {
      "cell_type": "code",
      "source": [
        "s"
      ],
      "metadata": {
        "colab": {
          "base_uri": "https://localhost:8080/"
        },
        "id": "a1BmyyqYYKhi",
        "outputId": "5c4ffc64-3372-48bd-8e85-6636c9324ce1"
      },
      "execution_count": null,
      "outputs": [
        {
          "output_type": "execute_result",
          "data": {
            "text/plain": [
              "[6, 7, 8, 9]"
            ]
          },
          "metadata": {},
          "execution_count": 6
        }
      ]
    },
    {
      "cell_type": "code",
      "source": [
        "l=[7,8,9,10]\n",
        "d=[]\n",
        "for i in l:\n",
        "  print(i+3)\n",
        "  d.append(i+3)\n",
        "print(d)"
      ],
      "metadata": {
        "colab": {
          "base_uri": "https://localhost:8080/"
        },
        "id": "uPiKhaSJYL5r",
        "outputId": "088e6c8d-6323-452c-d918-c3ce9220a09c"
      },
      "execution_count": null,
      "outputs": [
        {
          "output_type": "stream",
          "name": "stdout",
          "text": [
            "10\n",
            "11\n",
            "12\n",
            "13\n",
            "[10, 11, 12, 13]\n"
          ]
        }
      ]
    },
    {
      "cell_type": "code",
      "source": [
        "d"
      ],
      "metadata": {
        "colab": {
          "base_uri": "https://localhost:8080/"
        },
        "id": "HvDmGbDiZemg",
        "outputId": "29f2d39c-6977-40a2-e7f0-023440320653"
      },
      "execution_count": null,
      "outputs": [
        {
          "output_type": "execute_result",
          "data": {
            "text/plain": [
              "[10, 11, 12, 13]"
            ]
          },
          "metadata": {},
          "execution_count": 8
        }
      ]
    },
    {
      "cell_type": "code",
      "source": [
        "l=[2,45,85,96,\"pavan\", 6+3j, True, [4,5,2]]\n",
        "for i in l:\n",
        "  if type(i)==int:\n",
        "      print(i)\n"
      ],
      "metadata": {
        "colab": {
          "base_uri": "https://localhost:8080/"
        },
        "id": "J83YMl5hZgm2",
        "outputId": "a631d143-93eb-4cb1-a1b4-7e5e6c540e20"
      },
      "execution_count": null,
      "outputs": [
        {
          "output_type": "stream",
          "name": "stdout",
          "text": [
            "2\n",
            "45\n",
            "85\n",
            "96\n"
          ]
        }
      ]
    },
    {
      "cell_type": "code",
      "source": [
        "l"
      ],
      "metadata": {
        "colab": {
          "base_uri": "https://localhost:8080/"
        },
        "id": "qja1kykGZ-RX",
        "outputId": "a4b34ead-941b-4888-d612-073de2642f0b"
      },
      "execution_count": null,
      "outputs": [
        {
          "output_type": "execute_result",
          "data": {
            "text/plain": [
              "[2, 45, 85, 96, 'pavan', (6+3j), True, [4, 5, 2]]"
            ]
          },
          "metadata": {},
          "execution_count": 18
        }
      ]
    },
    {
      "cell_type": "code",
      "source": [
        "for i in l:\n",
        "    if type(i)==str:\n",
        "        print(i)"
      ],
      "metadata": {
        "colab": {
          "base_uri": "https://localhost:8080/"
        },
        "id": "YQ8JmLaYahrf",
        "outputId": "d533b11b-13f0-4e1e-82fd-3ecdfd5e7b4f"
      },
      "execution_count": null,
      "outputs": [
        {
          "output_type": "stream",
          "name": "stdout",
          "text": [
            "pavan\n"
          ]
        }
      ]
    },
    {
      "cell_type": "code",
      "source": [
        "l"
      ],
      "metadata": {
        "colab": {
          "base_uri": "https://localhost:8080/"
        },
        "id": "Dvwb57G2ambx",
        "outputId": "ece7f407-ab9e-41c7-de26-e9c3052f3b2a"
      },
      "execution_count": null,
      "outputs": [
        {
          "output_type": "execute_result",
          "data": {
            "text/plain": [
              "[2, 45, 85, 96, 'pavan', (6+3j), True, [4, 5, 2]]"
            ]
          },
          "metadata": {},
          "execution_count": 25
        }
      ]
    },
    {
      "cell_type": "code",
      "source": [
        "for i in l:\n",
        "  print(i)"
      ],
      "metadata": {
        "colab": {
          "base_uri": "https://localhost:8080/"
        },
        "id": "g03RLqjpbQ48",
        "outputId": "4e1b28f0-ac2b-44e0-f13b-ffdf0f648c29"
      },
      "execution_count": null,
      "outputs": [
        {
          "output_type": "stream",
          "name": "stdout",
          "text": [
            "2\n",
            "45\n",
            "85\n",
            "96\n",
            "pavan\n",
            "(6+3j)\n",
            "True\n",
            "[4, 5, 2]\n"
          ]
        }
      ]
    },
    {
      "cell_type": "code",
      "source": [
        "for i in l:\n",
        "  print(type(i))"
      ],
      "metadata": {
        "colab": {
          "base_uri": "https://localhost:8080/"
        },
        "id": "VBFDO9SibS9A",
        "outputId": "cddf5084-3701-4763-eca9-96c8b32f38d1"
      },
      "execution_count": null,
      "outputs": [
        {
          "output_type": "stream",
          "name": "stdout",
          "text": [
            "<class 'int'>\n",
            "<class 'int'>\n",
            "<class 'int'>\n",
            "<class 'int'>\n",
            "<class 'str'>\n",
            "<class 'complex'>\n",
            "<class 'bool'>\n",
            "<class 'list'>\n"
          ]
        }
      ]
    },
    {
      "cell_type": "code",
      "source": [
        "l"
      ],
      "metadata": {
        "colab": {
          "base_uri": "https://localhost:8080/"
        },
        "id": "RDyEziu3bv1e",
        "outputId": "a5a8cf61-f1a7-47ff-8f8a-5d4fd9bbce5d"
      },
      "execution_count": null,
      "outputs": [
        {
          "output_type": "execute_result",
          "data": {
            "text/plain": [
              "[2, 45, 85, 96, 'pavan', (6+3j), True, [4, 5, 2]]"
            ]
          },
          "metadata": {},
          "execution_count": 28
        }
      ]
    },
    {
      "cell_type": "code",
      "source": [
        "len(l)"
      ],
      "metadata": {
        "colab": {
          "base_uri": "https://localhost:8080/"
        },
        "id": "l6od3qYIdygF",
        "outputId": "92faa4a9-b7a5-41a2-80d0-19223ae63330"
      },
      "execution_count": null,
      "outputs": [
        {
          "output_type": "execute_result",
          "data": {
            "text/plain": [
              "8"
            ]
          },
          "metadata": {},
          "execution_count": 29
        }
      ]
    },
    {
      "cell_type": "code",
      "source": [
        "range(len(l))"
      ],
      "metadata": {
        "colab": {
          "base_uri": "https://localhost:8080/"
        },
        "id": "hxzLw5Drd0UF",
        "outputId": "0258609e-d8a3-40ef-9f55-e68c8339a3f7"
      },
      "execution_count": null,
      "outputs": [
        {
          "output_type": "execute_result",
          "data": {
            "text/plain": [
              "range(0, 8)"
            ]
          },
          "metadata": {},
          "execution_count": 30
        }
      ]
    },
    {
      "cell_type": "code",
      "source": [
        "range(0,8)"
      ],
      "metadata": {
        "colab": {
          "base_uri": "https://localhost:8080/"
        },
        "id": "c2EJ_LQ9eCYd",
        "outputId": "b315a2d4-48db-4724-e761-531feff2d06f"
      },
      "execution_count": null,
      "outputs": [
        {
          "output_type": "execute_result",
          "data": {
            "text/plain": [
              "range(0, 8)"
            ]
          },
          "metadata": {},
          "execution_count": 31
        }
      ]
    },
    {
      "cell_type": "code",
      "source": [
        "range(8)"
      ],
      "metadata": {
        "colab": {
          "base_uri": "https://localhost:8080/"
        },
        "id": "SEnH19DoeGWA",
        "outputId": "843881a3-91ec-4f18-e397-aa9a4f93fd4b"
      },
      "execution_count": null,
      "outputs": [
        {
          "output_type": "execute_result",
          "data": {
            "text/plain": [
              "range(0, 8)"
            ]
          },
          "metadata": {},
          "execution_count": 32
        }
      ]
    },
    {
      "cell_type": "code",
      "source": [
        "for i in l:\n",
        "  print(i)"
      ],
      "metadata": {
        "colab": {
          "base_uri": "https://localhost:8080/"
        },
        "id": "778JYfdceZA7",
        "outputId": "327b13bd-4921-47ee-ca96-db742ae7c893"
      },
      "execution_count": null,
      "outputs": [
        {
          "output_type": "stream",
          "name": "stdout",
          "text": [
            "2\n",
            "45\n",
            "85\n",
            "96\n",
            "pavan\n",
            "(6+3j)\n",
            "True\n",
            "[4, 5, 2]\n"
          ]
        }
      ]
    },
    {
      "cell_type": "code",
      "source": [
        "for i in range(len(l)):\n",
        "  print(\"index\",i,\"for an element\", l[i])"
      ],
      "metadata": {
        "colab": {
          "base_uri": "https://localhost:8080/"
        },
        "id": "Y2cBxWbqedrJ",
        "outputId": "e52472fc-e84d-4512-ab16-b9582cb2ed41"
      },
      "execution_count": null,
      "outputs": [
        {
          "output_type": "stream",
          "name": "stdout",
          "text": [
            "index 0 for an element 2\n",
            "index 1 for an element 45\n",
            "index 2 for an element 85\n",
            "index 3 for an element 96\n",
            "index 4 for an element pavan\n",
            "index 5 for an element (6+3j)\n",
            "index 6 for an element True\n",
            "index 7 for an element [4, 5, 2]\n"
          ]
        }
      ]
    },
    {
      "cell_type": "code",
      "source": [
        "l\n"
      ],
      "metadata": {
        "colab": {
          "base_uri": "https://localhost:8080/"
        },
        "id": "X_cTSwYCfVl_",
        "outputId": "9895d03b-46d2-4c23-e926-6e594d0ff385"
      },
      "execution_count": null,
      "outputs": [
        {
          "output_type": "execute_result",
          "data": {
            "text/plain": [
              "[2, 45, 85, 96, 'pavan', (6+3j), True, [4, 5, 2]]"
            ]
          },
          "metadata": {},
          "execution_count": 35
        }
      ]
    },
    {
      "cell_type": "code",
      "source": [
        "for i in enumerate(i):\n",
        "  print(i,j)"
      ],
      "metadata": {
        "colab": {
          "base_uri": "https://localhost:8080/",
          "height": 182
        },
        "id": "Cz62GP7gfgfa",
        "outputId": "13de6170-316f-4a98-974b-1e4eb2be8918"
      },
      "execution_count": null,
      "outputs": [
        {
          "output_type": "error",
          "ename": "TypeError",
          "evalue": "ignored",
          "traceback": [
            "\u001b[0;31m---------------------------------------------------------------------------\u001b[0m",
            "\u001b[0;31mTypeError\u001b[0m                                 Traceback (most recent call last)",
            "\u001b[0;32m<ipython-input-37-a87c58130afe>\u001b[0m in \u001b[0;36m<module>\u001b[0;34m\u001b[0m\n\u001b[0;32m----> 1\u001b[0;31m \u001b[0;32mfor\u001b[0m \u001b[0mi\u001b[0m \u001b[0;32min\u001b[0m \u001b[0menumerate\u001b[0m\u001b[0;34m(\u001b[0m\u001b[0mi\u001b[0m\u001b[0;34m)\u001b[0m\u001b[0;34m:\u001b[0m\u001b[0;34m\u001b[0m\u001b[0;34m\u001b[0m\u001b[0m\n\u001b[0m\u001b[1;32m      2\u001b[0m   \u001b[0mprint\u001b[0m\u001b[0;34m(\u001b[0m\u001b[0mi\u001b[0m\u001b[0;34m,\u001b[0m\u001b[0mj\u001b[0m\u001b[0;34m)\u001b[0m\u001b[0;34m\u001b[0m\u001b[0;34m\u001b[0m\u001b[0m\n",
            "\u001b[0;31mTypeError\u001b[0m: 'int' object is not iterable"
          ]
        }
      ]
    },
    {
      "cell_type": "code",
      "source": [
        "l=[2,45,68,96,\"raji\",6.2,5+6j,[4,2,3]]\n",
        "for i in l:\n",
        "  if type(i)==str:\n",
        "    a=[]\n",
        "    for j in i:\n",
        "      a.append(j)\n",
        "      print(j)"
      ],
      "metadata": {
        "colab": {
          "base_uri": "https://localhost:8080/"
        },
        "id": "QpzfcrVtfwlo",
        "outputId": "dd50e916-6f2b-488c-c039-da20c840a89d"
      },
      "execution_count": null,
      "outputs": [
        {
          "output_type": "stream",
          "name": "stdout",
          "text": [
            "r\n",
            "a\n",
            "j\n",
            "i\n"
          ]
        }
      ]
    },
    {
      "cell_type": "code",
      "source": [
        "a"
      ],
      "metadata": {
        "colab": {
          "base_uri": "https://localhost:8080/"
        },
        "id": "cY0nQKRwgfd0",
        "outputId": "8e338a7e-fa92-4b5f-e32b-e7da547eb47e"
      },
      "execution_count": null,
      "outputs": [
        {
          "output_type": "execute_result",
          "data": {
            "text/plain": [
              "['r', 'a', 'j', 'i']"
            ]
          },
          "metadata": {},
          "execution_count": 39
        }
      ]
    },
    {
      "cell_type": "code",
      "source": [
        "l=[2,4,5,6]\n",
        "for i in l:\n",
        "  if type(i)==int:\n",
        "    print(i)"
      ],
      "metadata": {
        "id": "xnS9pG8EglLK",
        "colab": {
          "base_uri": "https://localhost:8080/"
        },
        "outputId": "cfc777c0-c7da-402f-8e7f-5904852b3dae"
      },
      "execution_count": 40,
      "outputs": [
        {
          "output_type": "stream",
          "name": "stdout",
          "text": [
            "2\n",
            "4\n",
            "5\n",
            "6\n"
          ]
        }
      ]
    },
    {
      "cell_type": "code",
      "source": [
        "for i in reversed(l):\n",
        "  print(i)"
      ],
      "metadata": {
        "colab": {
          "base_uri": "https://localhost:8080/"
        },
        "id": "18Acgi9ZxJtY",
        "outputId": "29434fe2-a2a1-4404-f2a3-626ef694e8cb"
      },
      "execution_count": 41,
      "outputs": [
        {
          "output_type": "stream",
          "name": "stdout",
          "text": [
            "6\n",
            "5\n",
            "4\n",
            "2\n"
          ]
        }
      ]
    },
    {
      "cell_type": "code",
      "source": [
        "l=[4,5,6,2.3,3.2j,True,[4,8,6,9],\"raji\"]"
      ],
      "metadata": {
        "id": "ts0Ecxk1xRjy"
      },
      "execution_count": 42,
      "outputs": []
    },
    {
      "cell_type": "code",
      "source": [
        "for i in l:\n",
        "  if type(i)==list:\n",
        "    print(i)"
      ],
      "metadata": {
        "colab": {
          "base_uri": "https://localhost:8080/"
        },
        "id": "rMHMYInC95cT",
        "outputId": "6fa491ba-b09e-41f7-99be-7ef9234575e1"
      },
      "execution_count": 43,
      "outputs": [
        {
          "output_type": "stream",
          "name": "stdout",
          "text": [
            "[4, 8, 6, 9]\n"
          ]
        }
      ]
    },
    {
      "cell_type": "code",
      "source": [
        "for i in l:\n",
        "  if type(i)==bool:\n",
        "    print(i)"
      ],
      "metadata": {
        "colab": {
          "base_uri": "https://localhost:8080/"
        },
        "id": "wPOEIhAa-A44",
        "outputId": "fc4efeef-5bae-4ccb-b3c2-9d0e1b78546d"
      },
      "execution_count": 44,
      "outputs": [
        {
          "output_type": "stream",
          "name": "stdout",
          "text": [
            "True\n"
          ]
        }
      ]
    },
    {
      "cell_type": "code",
      "source": [
        "for i in l:\n",
        "  if type(i)==complex:\n",
        "    print(i)"
      ],
      "metadata": {
        "colab": {
          "base_uri": "https://localhost:8080/"
        },
        "id": "5PMA3Gyk-IWD",
        "outputId": "dce4dad8-5148-41a7-e801-45753eafb1f6"
      },
      "execution_count": 45,
      "outputs": [
        {
          "output_type": "stream",
          "name": "stdout",
          "text": [
            "3.2j\n"
          ]
        }
      ]
    },
    {
      "cell_type": "code",
      "source": [
        "for i in l:\n",
        "  if type(i)==float:\n",
        "    print(i, type(i))"
      ],
      "metadata": {
        "colab": {
          "base_uri": "https://localhost:8080/"
        },
        "id": "D2DcaJU1-SZ1",
        "outputId": "32fee0be-e9de-458b-f488-d4bc13637c56"
      },
      "execution_count": 46,
      "outputs": [
        {
          "output_type": "stream",
          "name": "stdout",
          "text": [
            "2.3 <class 'float'>\n"
          ]
        }
      ]
    },
    {
      "cell_type": "code",
      "source": [
        "l"
      ],
      "metadata": {
        "colab": {
          "base_uri": "https://localhost:8080/"
        },
        "id": "qBmaLlmL-cQI",
        "outputId": "69aa36ca-e47e-4a04-aadd-adc7896595b2"
      },
      "execution_count": 47,
      "outputs": [
        {
          "output_type": "execute_result",
          "data": {
            "text/plain": [
              "[4, 5, 6, 2.3, 3.2j, True, [4, 8, 6, 9], 'raji']"
            ]
          },
          "metadata": {},
          "execution_count": 47
        }
      ]
    },
    {
      "cell_type": "code",
      "source": [
        "for i in l:\n",
        "  if type(i)==str:\n",
        "    print(i)\n",
        "  elif type(i)==bool:\n",
        "    print(i)"
      ],
      "metadata": {
        "colab": {
          "base_uri": "https://localhost:8080/"
        },
        "id": "LpRzGWBE-ibK",
        "outputId": "b02b795b-240c-469d-c94f-e4d4b997f4ac"
      },
      "execution_count": 49,
      "outputs": [
        {
          "output_type": "stream",
          "name": "stdout",
          "text": [
            "True\n",
            "raji\n"
          ]
        }
      ]
    },
    {
      "cell_type": "code",
      "source": [
        "l"
      ],
      "metadata": {
        "colab": {
          "base_uri": "https://localhost:8080/"
        },
        "id": "oarTwIHw-vmP",
        "outputId": "7dae0609-42b3-4d2c-ace9-24b1fc0be4e6"
      },
      "execution_count": 50,
      "outputs": [
        {
          "output_type": "execute_result",
          "data": {
            "text/plain": [
              "[4, 5, 6, 2.3, 3.2j, True, [4, 8, 6, 9], 'raji']"
            ]
          },
          "metadata": {},
          "execution_count": 50
        }
      ]
    },
    {
      "cell_type": "code",
      "source": [
        "for i in range(len(l)):\n",
        "  print(\"index\",i, \"for an element\", l[i])"
      ],
      "metadata": {
        "colab": {
          "base_uri": "https://localhost:8080/"
        },
        "id": "ZsOb0Vbi_NEY",
        "outputId": "2ce91619-6d3d-4671-cda0-a413fc9265be"
      },
      "execution_count": 51,
      "outputs": [
        {
          "output_type": "stream",
          "name": "stdout",
          "text": [
            "index 0 for an element 4\n",
            "index 1 for an element 5\n",
            "index 2 for an element 6\n",
            "index 3 for an element 2.3\n",
            "index 4 for an element 3.2j\n",
            "index 5 for an element True\n",
            "index 6 for an element [4, 8, 6, 9]\n",
            "index 7 for an element raji\n"
          ]
        }
      ]
    },
    {
      "cell_type": "code",
      "source": [
        "for i in l:\n",
        "  if type(i)==str:\n",
        "    a=[]\n",
        "    for j in i:\n",
        "      a.append(j)\n",
        "    print(a)"
      ],
      "metadata": {
        "colab": {
          "base_uri": "https://localhost:8080/"
        },
        "id": "OunIhIfh_Ywb",
        "outputId": "b64c73cd-402d-4ff2-9d02-6ca3bb194ee8"
      },
      "execution_count": 52,
      "outputs": [
        {
          "output_type": "stream",
          "name": "stdout",
          "text": [
            "['r', 'a', 'j', 'i']\n"
          ]
        }
      ]
    },
    {
      "cell_type": "code",
      "source": [
        "for i in l:\n",
        "  if i==int:\n",
        "    a.append(i**2)\n",
        "    print(a)"
      ],
      "metadata": {
        "id": "VppyHfCj_sxr"
      },
      "execution_count": 53,
      "outputs": []
    },
    {
      "cell_type": "code",
      "source": [
        "a"
      ],
      "metadata": {
        "colab": {
          "base_uri": "https://localhost:8080/"
        },
        "id": "YGwajZGW_6eU",
        "outputId": "f7ca12b7-c731-431f-e5ce-3db2bdc30951"
      },
      "execution_count": 54,
      "outputs": [
        {
          "output_type": "execute_result",
          "data": {
            "text/plain": [
              "['r', 'a', 'j', 'i']"
            ]
          },
          "metadata": {},
          "execution_count": 54
        }
      ]
    },
    {
      "cell_type": "code",
      "source": [
        "a=[4,5,6,7]\n",
        "b=[]\n",
        "for i in a:\n",
        "  print(i)"
      ],
      "metadata": {
        "colab": {
          "base_uri": "https://localhost:8080/"
        },
        "id": "WgRKMwQoAQHw",
        "outputId": "7dba0817-81d8-4c44-c4f9-12858823c10f"
      },
      "execution_count": 62,
      "outputs": [
        {
          "output_type": "stream",
          "name": "stdout",
          "text": [
            "4\n",
            "5\n",
            "6\n",
            "7\n"
          ]
        }
      ]
    },
    {
      "cell_type": "code",
      "source": [
        "for i in a:\n",
        "  print(i**2)"
      ],
      "metadata": {
        "colab": {
          "base_uri": "https://localhost:8080/"
        },
        "id": "Qw_YZCymAqAR",
        "outputId": "b9d40ba8-5283-4a72-9caa-a56c66189546"
      },
      "execution_count": 63,
      "outputs": [
        {
          "output_type": "stream",
          "name": "stdout",
          "text": [
            "16\n",
            "25\n",
            "36\n",
            "49\n"
          ]
        }
      ]
    },
    {
      "cell_type": "code",
      "source": [
        "b=[]\n",
        "for i in a:\n",
        "  print(i**2)\n",
        "  b.append(i**2)\n",
        "  \n"
      ],
      "metadata": {
        "colab": {
          "base_uri": "https://localhost:8080/"
        },
        "id": "HZ7dTk57As3q",
        "outputId": "8faa75cd-b254-46b5-86f0-135740ed6dd5"
      },
      "execution_count": 71,
      "outputs": [
        {
          "output_type": "stream",
          "name": "stdout",
          "text": [
            "16\n",
            "25\n",
            "36\n",
            "49\n"
          ]
        }
      ]
    },
    {
      "cell_type": "code",
      "source": [
        "b"
      ],
      "metadata": {
        "colab": {
          "base_uri": "https://localhost:8080/"
        },
        "id": "DA4Rwa93A18S",
        "outputId": "26b6b880-dc06-43e5-e334-43b34d6452e5"
      },
      "execution_count": 72,
      "outputs": [
        {
          "output_type": "execute_result",
          "data": {
            "text/plain": [
              "[16, 25, 36, 49]"
            ]
          },
          "metadata": {},
          "execution_count": 72
        }
      ]
    },
    {
      "cell_type": "code",
      "source": [
        "a"
      ],
      "metadata": {
        "colab": {
          "base_uri": "https://localhost:8080/"
        },
        "id": "Svblrn8zBPvy",
        "outputId": "77e4a1e2-e6f1-4935-abce-541698409e81"
      },
      "execution_count": 73,
      "outputs": [
        {
          "output_type": "execute_result",
          "data": {
            "text/plain": [
              "[4, 5, 6, 7]"
            ]
          },
          "metadata": {},
          "execution_count": 73
        }
      ]
    },
    {
      "cell_type": "code",
      "source": [
        "for i in range(len(a)):\n",
        "  print(i, a[i])"
      ],
      "metadata": {
        "colab": {
          "base_uri": "https://localhost:8080/"
        },
        "id": "DsmqmrbNBnx_",
        "outputId": "cc0c37a4-af82-451a-fc17-912c77ed41e2"
      },
      "execution_count": 76,
      "outputs": [
        {
          "output_type": "stream",
          "name": "stdout",
          "text": [
            "0 4\n",
            "1 5\n",
            "2 6\n",
            "3 7\n"
          ]
        }
      ]
    },
    {
      "cell_type": "code",
      "source": [
        "for i in enumerate(a):\n",
        "  print(i)"
      ],
      "metadata": {
        "colab": {
          "base_uri": "https://localhost:8080/"
        },
        "id": "Jh8-vqPBBr7J",
        "outputId": "ef7717a6-25b9-4c5e-d4a5-0db229dff15a"
      },
      "execution_count": 77,
      "outputs": [
        {
          "output_type": "stream",
          "name": "stdout",
          "text": [
            "(0, 4)\n",
            "(1, 5)\n",
            "(2, 6)\n",
            "(3, 7)\n"
          ]
        }
      ]
    },
    {
      "cell_type": "code",
      "source": [
        "for i in l:\n",
        "  if type(i)==str:\n",
        "    l1=[]\n",
        "    for j in i:\n",
        "      l1.append(j)\n",
        "    print(l1)"
      ],
      "metadata": {
        "colab": {
          "base_uri": "https://localhost:8080/"
        },
        "id": "4DiCpIB0B6xE",
        "outputId": "fffd73f2-140e-4994-f7a8-667ddfd835f8"
      },
      "execution_count": 78,
      "outputs": [
        {
          "output_type": "stream",
          "name": "stdout",
          "text": [
            "['r', 'a', 'j', 'i']\n"
          ]
        }
      ]
    },
    {
      "cell_type": "code",
      "source": [
        "b=[]\n",
        "for i in a:\n",
        "  if type(i)==int:\n",
        "    b.append(i**2)"
      ],
      "metadata": {
        "id": "r4nCBdrQCNp1"
      },
      "execution_count": 79,
      "outputs": []
    },
    {
      "cell_type": "code",
      "source": [],
      "metadata": {
        "id": "OTYQFxkhCZVV"
      },
      "execution_count": null,
      "outputs": []
    }
  ]
}